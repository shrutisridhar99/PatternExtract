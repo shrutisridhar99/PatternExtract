"""
Full_program_run_Ki67.ipynb — Converted to a single Python script with detailed inline comments
============================================================================================
This version adds explanatory comments to each step so the logic and inputs are clear.
Adapt paths and parameters (marked TODO) to your local environment before running.
"""

# ---------------------------------------------------------
# 1. Import required libraries
# ---------------------------------------------------------
# OpenCV for image I/O and processing
# pandas & numpy for data handling
# glob / os / shutil / subprocess for file and shell utilities
import cv2
import pandas as pd
import numpy as np
import glob
import re
import shutil
import os
import subprocess

# ---------------------------------------------------------
# 2. Collect CSV and corresponding image paths
# ---------------------------------------------------------
# a will store patient / core IDs parsed from CSV filenames
# b will store full paths to every CSV in the input folder
# d will later store matching image paths so that index i maps ID → image
#
# TODO: replace the folder below with the directory containing your per‑image CSVs
CSV_DIR = r"C:/Users/siddh/Downloads/Ki67/CSV/*"

a: list[str] = []  # IDs extracted from CSV names
b: list[str] = []  # CSV file paths

for csv_path in glob.glob(CSV_DIR):
    b.append(csv_path)
    # Assumes filename pattern like "<ID>.csv" — edit regex if different
    match = re.search(r"([A-Za-z0-9_\-]+)\.csv$", os.path.basename(csv_path))
    if match:
        a.append(match.group(1))

# ---------------------------------------------------------
# 3. Build a list of image paths (d) that correspond to IDs in `a`
# ---------------------------------------------------------
# TODO: replace IMAGE_DIR with folder containing raw RGB images
IMAGE_DIR = r"C:/Users/siddh/Downloads/Ki67/Images/*"

d: list[str] = glob.glob(IMAGE_DIR)

# Quick sanity check that we have equal counts
print(f"Loaded {len(a)} CSV IDs and {len(d)} images")

# ---------------------------------------------------------
# 4. Loop through each CSV → locate matching image → read with OpenCV
# ---------------------------------------------------------
for j, csv_id in enumerate(a):
    # Find index of matching image name that contains the ID
    # `c` is list of image IDs parsed from filenames (computed once lazily)
    if j == 0:
        c: list[str] = [re.search(r"([A-Za-z0-9_\-]+)", os.path.basename(p)).group(1) for p in d]

    try:
        i = c.index(csv_id)
    except ValueError:
        print(f"⚠️  No image found for ID {csv_id}; skipping")
        continue

    image_path = d[i]
    image_rgb = cv2.imread(image_path)

    # TODO: call your two‑kernel mask function here → returns binary mask
    # mask = build_two_kernel_mask(image_rgb, csv_path)
    # (Placeholder) just display dimensions
    print(f"Processing {csv_id}: image shape = {image_rgb.shape}")

# ---------------------------------------------------------
# 5. Run QuPath Groovy script to create project & annotations
# ---------------------------------------------------------
# Change working directory to QuPath install so that the CLI works
QU_PATH_EXE_DIR = r"C:/Users/siddh/AppData/Local/QuPath-0.3.2"
ios_cwd = os.getcwd()
try:
    os.chdir(QU_PATH_EXE_DIR)

    # Path to the Groovy script that sets thresholds & exports GeoJSONs
    GROOVY_SCRIPT = r"C:/Users/siddh/Downloads/createproject_ki67.groovy"
    # Directory containing images (same as IMAGE_DIR but without wildcard)
    IMAGES_ROOT = os.path.dirname(IMAGE_DIR)

    # NOTE: QuPath requires double hyphen to pass CLI args on Windows
    subprocess.call([
        "QuPath.exe", "script",
        GROOVY_SCRIPT,
        "--arg", IMAGES_ROOT  # pass arg within script as 'arg'
    ])
finally:
    os.chdir(ios_cwd)

# ---------------------------------------------------------
# 6. (Optional) Call R script for downstream spatstat analysis
# ---------------------------------------------------------
# Uncomment to execute your R workflow automatically from Python
# R_SCRIPT = r"C:/Users/siddh/Downloads/R_script_SGH.R"
# R_BIN = r"C:/Program Files/R/R-4.3.1/bin/Rscript.exe"
# subprocess.call([R_BIN, "--vanilla", R_SCRIPT])

print("✅ PatternExtract workflow finished. Inspect GeoJSON outputs in QuPath before running spatial stats in R.")
