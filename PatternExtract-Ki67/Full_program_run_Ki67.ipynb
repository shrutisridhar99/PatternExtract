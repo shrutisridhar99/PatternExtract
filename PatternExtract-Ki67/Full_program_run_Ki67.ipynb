{
  "cells": [
    {
      "cell_type": "code",
      "execution_count": null,
      "id": "e17a4b37",
      "metadata": {
        "id": "e17a4b37",
        "outputId": "d88df998-2e79-46ba-f557-d2bdbb57053d"
      },
      "outputs": [
        {
          "name": "stdout",
          "output_type": "stream",
          "text": [
            "['A2', '01', '01']\n",
            "C:/Users/siddh/Downloads/Ki67/Images\\NSB__NUH A2_1_HP_IM3_0_Core[1,1,1,1]_[26506,6132]_component_data.jpg\n"
          ]
        }
      ],
      "source": [
        "import cv2\n",
        "import pandas as pd\n",
        "import numpy as np\n",
        "import glob\n",
        "import re\n",
        "import shutil\n",
        "import os\n",
        "import subprocess\n",
        "\n",
        "a = []\n",
        "b = []\n",
        "for file in glob.glob(\"C:/Users/siddh/Downloads/Ki67/CSV/*\"):\n",
        "    b.append(file)\n",
        "    bit0 = file.split(\"_1_HP_IM3_0_Core\")[0]\n",
        "    bit0 = bit0.split(\" \")[-1]\n",
        "\n",
        "    bit1 = file.split(\"_1_HP_IM3_0_Core\")[1]\n",
        "    bit1 = bit1.split(\"_\")[0]\n",
        "    bit1 = bit1.split(\",\")\n",
        "\n",
        "    if int(bit1[1])<10:\n",
        "        p3 = str(\"0\"+str(bit1[1]))\n",
        "    else:\n",
        "        p3 = str(bit1[1])\n",
        "\n",
        "    if int(bit1[2])<10:\n",
        "        p4 = str(\"0\"+str(bit1[2]))\n",
        "    else:\n",
        "        p4 = str(bit1[2])\n",
        "\n",
        "    bit = [str(bit0),p3,p4]\n",
        "    a.append(bit)\n",
        "\n",
        "#print(b[0])\n",
        "#print(a[0])\n",
        "\n",
        "c = []\n",
        "d = []\n",
        "for file in glob.glob(\"C:/Users/siddh/Downloads/Ki67/Images/*\"):\n",
        "    d.append(file)\n",
        "    bit2 = file.split(\"_1_HP_IM3_0_Core\")[0]\n",
        "    bit2 = bit2.split(\" \")[-1]\n",
        "\n",
        "    bit3 = file.split(\"_1_HP_IM3_0_Core\")[1]\n",
        "    bit3 = bit3.split(\"_\")[0]\n",
        "    bit3 = bit3.split(\",\")\n",
        "\n",
        "    if int(bit3[1])<10:\n",
        "        p1 = str(\"0\"+str(bit3[1]))\n",
        "    else:\n",
        "        p1 = str(bit3[1])\n",
        "\n",
        "    if int(bit3[2])<10:\n",
        "        p2 = str(\"0\"+str(bit3[2]))\n",
        "    else:\n",
        "        p2 = str(bit3[2])\n",
        "\n",
        "    bit = [str(bit2),p1,p2]\n",
        "    c.append(bit)\n",
        "print(c[0])\n",
        "print(d[0])"
      ]
    },
    {
      "cell_type": "code",
      "execution_count": null,
      "id": "07273d72",
      "metadata": {
        "scrolled": false,
        "id": "07273d72",
        "outputId": "5c926773-c790-43e9-b14f-7ba0239fb34a"
      },
      "outputs": [
        {
          "name": "stdout",
          "output_type": "stream",
          "text": [
            "C:/Users/siddh/Downloads/Ki67/CSV\\NSB__NUH A2_1_HP_IM3_0_Core[1,1,1,1]_[26506,6132]_component_data.tif - resolution #1.csv\n",
            "C:/Users/siddh/Downloads/Ki67/Images\\NSB__NUH A2_1_HP_IM3_0_Core[1,1,1,1]_[26506,6132]_component_data.jpg\n",
            "C:/Users/siddh/Downloads/Ki67/CSV\\NSB__NUH A2_1_HP_IM3_0_Core[1,1,14,1]_[50156,5368]_component_data.tif - resolution #1.csv\n",
            "C:/Users/siddh/Downloads/Ki67/Images\\NSB__NUH A2_1_HP_IM3_0_Core[1,1,14,1]_[50156,5368]_component_data.jpg\n",
            "C:/Users/siddh/Downloads/Ki67/CSV\\NSB__NUH A2_1_HP_IM3_0_Core[1,1,4,1]_[32246,5866]_component_data.tif - resolution #1.csv\n",
            "C:/Users/siddh/Downloads/Ki67/Images\\NSB__NUH A2_1_HP_IM3_0_Core[1,1,4,1]_[32246,5866]_component_data.jpg\n",
            "C:/Users/siddh/Downloads/Ki67/CSV\\NSB__NUH A2_1_HP_IM3_0_Core[1,2,2,1]_[28349,7910]_component_data.tif - resolution #1.csv\n",
            "C:/Users/siddh/Downloads/Ki67/Images\\NSB__NUH A2_1_HP_IM3_0_Core[1,2,2,1]_[28349,7910]_component_data.jpg\n",
            "C:/Users/siddh/Downloads/Ki67/CSV\\NSB__NUH A2_1_HP_IM3_0_Core[1,3,5,1]_component_data.tif - resolution #1.csv\n",
            "C:/Users/siddh/Downloads/Ki67/Images\\NSB__NUH A2_1_HP_IM3_0_Core[1,3,5,1]_component_data.jpg\n",
            "C:/Users/siddh/Downloads/Ki67/CSV\\NSB__NUH A2_1_HP_IM3_0_Core[1,3,8,1]_[39277,9300.5]_component_data.tif - resolution #1.csv\n",
            "C:/Users/siddh/Downloads/Ki67/Images\\NSB__NUH A2_1_HP_IM3_0_Core[1,3,8,1]_[39277,9300.5]_component_data.jpg\n",
            "C:/Users/siddh/Downloads/Ki67/CSV\\NSB__NUH A2_1_HP_IM3_0_Core[1,4,14,1]_[50181,10878]_component_data.tif - resolution #1.csv\n",
            "C:/Users/siddh/Downloads/Ki67/Images\\NSB__NUH A2_1_HP_IM3_0_Core[1,4,14,1]_[50181,10878]_component_data.jpg\n",
            "C:/Users/siddh/Downloads/Ki67/CSV\\NSB__NUH A2_1_HP_IM3_0_Core[1,4,8,1]_[39402.5,11128.5]_component_data.tif - resolution #1.csv\n",
            "C:/Users/siddh/Downloads/Ki67/Images\\NSB__NUH A2_1_HP_IM3_0_Core[1,4,8,1]_[39402.5,11128.5]_component_data.jpg\n",
            "C:/Users/siddh/Downloads/Ki67/CSV\\NSB__NUH A2_1_HP_IM3_0_Core[1,5,11,1]_[44614,12789]_component_data.tif - resolution #1.csv\n",
            "C:/Users/siddh/Downloads/Ki67/Images\\NSB__NUH A2_1_HP_IM3_0_Core[1,5,11,1]_[44614,12789]_component_data.jpg\n",
            "C:/Users/siddh/Downloads/Ki67/CSV\\NSB__NUH A2_1_HP_IM3_0_Core[1,5,6,1]_[35806,12931.5]_component_data.tif - resolution #1.csv\n",
            "C:/Users/siddh/Downloads/Ki67/Images\\NSB__NUH A2_1_HP_IM3_0_Core[1,5,6,1]_[35806,12931.5]_component_data.jpg\n",
            "C:/Users/siddh/Downloads/Ki67/CSV\\NSB__NUH B2_1_HP_IM3_0_Core[1,1,10,1]_[44577,4660.5]_component_data.tif - resolution #1.csv\n",
            "C:/Users/siddh/Downloads/Ki67/Images\\NSB__NUH B2_1_HP_IM3_0_Core[1,1,10,1]_[44577,4660.5]_component_data.jpg\n",
            "C:/Users/siddh/Downloads/Ki67/CSV\\NSB__NUH B2_1_HP_IM3_0_Core[1,2,13,1]_component_data.tif - resolution #1.csv\n",
            "C:/Users/siddh/Downloads/Ki67/Images\\NSB__NUH B2_1_HP_IM3_0_Core[1,2,13,1]_component_data.jpg\n",
            "C:/Users/siddh/Downloads/Ki67/CSV\\NSB__NUH B2_1_HP_IM3_0_Core[1,3,1,1]_[29500,9857.5]_component_data.tif - resolution #1.csv\n",
            "C:/Users/siddh/Downloads/Ki67/Images\\NSB__NUH B2_1_HP_IM3_0_Core[1,3,1,1]_[29500,9857.5]_component_data.jpg\n",
            "C:/Users/siddh/Downloads/Ki67/CSV\\NSB__NUH B2_1_HP_IM3_0_Core[1,3,6,1]_[38160,9043.5]_component_data.tif - resolution #1.csv\n",
            "C:/Users/siddh/Downloads/Ki67/Images\\NSB__NUH B2_1_HP_IM3_0_Core[1,3,6,1]_[38160,9043.5]_component_data.jpg\n",
            "C:/Users/siddh/Downloads/Ki67/CSV\\NSB__NUH B2_1_HP_IM3_0_Core[1,3,8,1]_[41694,8530]_component_data.tif - resolution #1.csv\n",
            "C:/Users/siddh/Downloads/Ki67/Images\\NSB__NUH B2_1_HP_IM3_0_Core[1,3,8,1]_[41694,8530]_component_data.jpg\n",
            "C:/Users/siddh/Downloads/Ki67/CSV\\NSB__NUH B2_1_HP_IM3_0_Core[1,4,8,1]_[41807,10408.5]_component_data.tif - resolution #1.csv\n",
            "C:/Users/siddh/Downloads/Ki67/Images\\NSB__NUH B2_1_HP_IM3_0_Core[1,4,8,1]_[41807,10408.5]_component_data.jpg\n",
            "C:/Users/siddh/Downloads/Ki67/CSV\\NSB__NUH B2_1_HP_IM3_0_Core[1,5,11,1]_component_data.tif - resolution #1.csv\n",
            "C:/Users/siddh/Downloads/Ki67/Images\\NSB__NUH B2_1_HP_IM3_0_Core[1,5,11,1]_component_data.jpg\n",
            "C:/Users/siddh/Downloads/Ki67/CSV\\NSB__NUH B2_1_HP_IM3_0_Core[1,5,14,1]_[52071,10884.5]_component_data.tif - resolution #1.csv\n",
            "C:/Users/siddh/Downloads/Ki67/Images\\NSB__NUH B2_1_HP_IM3_0_Core[1,5,14,1]_[52071,10884.5]_component_data.jpg\n",
            "C:/Users/siddh/Downloads/Ki67/CSV\\NSB__NUH B2_1_HP_IM3_0_Core[1,7,14,1]_component_data.tif - resolution #1.csv\n",
            "C:/Users/siddh/Downloads/Ki67/Images\\NSB__NUH B2_1_HP_IM3_0_Core[1,7,14,1]_component_data.jpg\n",
            "C:/Users/siddh/Downloads/Ki67/CSV\\NSB__NUH C2_1_HP_IM3_0_Core[1,8,14,1]_[48994,18978]_component_data.tif - resolution #1.csv\n",
            "C:/Users/siddh/Downloads/Ki67/Images\\NSB__NUH C2_1_HP_IM3_0_Core[1,8,14,1]_[48994,18978]_component_data.jpg\n"
          ]
        }
      ],
      "source": [
        "for j, item in enumerate(a): #a is a string containing id, taken from csv\n",
        "    i = c.index(item) #c is a string containing the  id, taken from image full name\n",
        "    image3 = cv2.imread(d[i]) #d is image full names\n",
        "    image4 = image3.copy()\n",
        "    image5 = image3.copy()\n",
        "    df = pd.read_csv(b[j], sep = '\\t') #b is full paths for the files in the BCA_v2 folder\n",
        "    print(b[j])\n",
        "    print(d[i])\n",
        "    for row in range(df.shape[0]):\n",
        "        x = int(df.loc[[row]][\"Centroid X µm\"])\n",
        "        y = int(df.loc[[row]][\"Centroid Y µm\"])\n",
        "        cv2.circle(image3, (x*2,y*2), radius=0, color= [0,0,255], thickness=15)\n",
        "\n",
        "    for row in range(df.shape[0]):\n",
        "        x = int(df.loc[[row]][\"Centroid X µm\"])\n",
        "        y = int(df.loc[[row]][\"Centroid Y µm\"])\n",
        "        cv2.circle(image4, (x*2,y*2), radius=5, color= [0,0,200], thickness=15)\n",
        "    dst_0 = cv2.addWeighted(image3,0.5, image4,0.5, 0)\n",
        "\n",
        "    # Here I just tried two kernels, but we can also add more kernels.\n",
        "    cv2.imwrite(\"C:/Users/siddh/Downloads/Ki67/Mask/\"+b[j].split('\\\\')[-1]+\".tiff\", dst_0)\n",
        "\n",
        ""
      ]
    },
    {
      "cell_type": "code",
      "execution_count": null,
      "id": "3fdf7735",
      "metadata": {
        "id": "3fdf7735",
        "outputId": "78c21f0f-7679-46e4-fa97-948105ce5007"
      },
      "outputs": [
        {
          "data": {
            "text/plain": [
              "<Popen: returncode: None args: ['QuPath-0.3.2 (console).exe', '--project', '...>"
            ]
          },
          "execution_count": 46,
          "metadata": {},
          "output_type": "execute_result"
        }
      ],
      "source": [
        "#Work from QuPath installation directory\n",
        "os.chdir(\"C:/Users/siddh/AppData/Local/QuPath-0.3.2\")\n",
        "script = \"C:/Users/siddh/Downloads/createproject_ki67.groovy\"\n",
        "\n",
        "#arg is the directory where images are stored\n",
        "arg = \"C:/Users/siddh/Downloads/Ki67/Mask/\"\n",
        "\n",
        "#Create a QuPath Project and populate it with images\n",
        "subprocess.run([\"QuPath-0.3.2 (console).exe\", \"script\", \"--args\", arg, script])\n",
        "\n",
        "#Creating Annotations for BCA Images and export to geoJSON objects\n",
        "script = \"C:/Users/siddh/Downloads/test_ki67.groovy\"\n",
        "projectFile = \"C:/Users/siddh/Downloads/New folder/Project/ki67/project.qpproj\"\n",
        "subprocess.run([\"QuPath-0.3.2 (console).exe\", \"script\", \"--save\", \"--project\", projectFile, script])\n",
        "subprocess.Popen([\"QuPath-0.3.2 (console).exe\", \"--project\", projectFile])"
      ]
    },
    {
      "cell_type": "code",
      "execution_count": null,
      "id": "30f98797",
      "metadata": {
        "id": "30f98797"
      },
      "outputs": [],
      "source": [
        "#R code Integration\n",
        "#Rfile = 'C:/Users/siddh/Downloads/R_script_SGH.R'\n",
        "#subprocess.call([\"C:/Program Files/R/R-4.3.1/bin/Rscript.exe\", \"--vanilla\", Rfile])"
      ]
    }
  ],
  "metadata": {
    "kernelspec": {
      "display_name": "Python 3 (ipykernel)",
      "language": "python",
      "name": "python3"
    },
    "language_info": {
      "codemirror_mode": {
        "name": "ipython",
        "version": 3
      },
      "file_extension": ".py",
      "mimetype": "text/x-python",
      "name": "python",
      "nbconvert_exporter": "python",
      "pygments_lexer": "ipython3",
      "version": "3.9.12"
    },
    "colab": {
      "provenance": []
    }
  },
  "nbformat": 4,
  "nbformat_minor": 5
}